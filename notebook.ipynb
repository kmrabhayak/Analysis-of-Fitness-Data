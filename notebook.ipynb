{
  "cells": [
    {
      "cell_type": "markdown",
      "metadata": {
        "dc": {
          "key": "4"
        },
        "deletable": false,
        "editable": false,
        "run_control": {
          "frozen": true
        },
        "tags": [
          "context"
        ],
        "id": "SSAmpDei3WpH"
      },
      "source": [
        "## 1. Obtain and review raw data\n",
        "<p>One day, my old running friend and I were chatting about our running styles, training habits, and achievements, when I suddenly realized that I could take an in-depth analytical look at my training. I have been using a popular GPS fitness tracker called <a href=\"https://runkeeper.com/\">Runkeeper</a> for years and decided it was time to analyze my running data to see how I was doing.</p>\n",
        "<p>Since 2012, I've been using the Runkeeper app, and it's great. One key feature: its excellent data export. Anyone who has a smartphone can download the app and analyze their data like we will in this notebook.</p>\n",
        "<p><img src=\"https://assets.datacamp.com/production/project_727/img/runner_in_blue.jpg\" alt=\"Runner in blue\" title=\"Explore world, explore your data!\"></p>\n",
        "<p>After logging your run, the first step is to export the data from Runkeeper (which I've done already). Then import the data and start exploring to find potential problems. After that, create data cleaning strategies to fix the issues. Finally, analyze and visualize the clean time-series data.</p>\n",
        "<p>I exported seven years worth of my training data, from 2012 through 2018. The data is a CSV file where each row is a single training activity. Let's load and inspect it.</p>"
      ]
    },
    {
      "cell_type": "code",
      "execution_count": null,
      "metadata": {
        "dc": {
          "key": "4"
        },
        "tags": [
          "sample_code"
        ],
        "colab": {
          "base_uri": "https://localhost:8080/",
          "height": 739
        },
        "id": "yT5YKWNq3WpO",
        "outputId": "079409e9-ca36-45b3-dcb9-39aef725565e"
      },
      "outputs": [
        {
          "output_type": "display_data",
          "data": {
            "text/plain": [
              "                                              Activity Id     Type Route Name  \\\n",
              "Date                                                                            \n",
              "2015-12-23 18:45:03  49f7059a-97c3-499e-9f42-85df1506aa90  Running        NaN   \n",
              "2015-06-22 18:19:53  2b3bb63b-e5b7-419e-9b53-744ce195fa83  Running        NaN   \n",
              "2017-01-05 18:15:10  e6f58116-e2c7-4f3a-848e-0529635f8bb3  Running        NaN   \n",
              "\n",
              "                     Distance (km) Duration Average Pace  \\\n",
              "Date                                                       \n",
              "2015-12-23 18:45:03          10.12    59:02         5:50   \n",
              "2015-06-22 18:19:53          18.84  1:41:17         5:22   \n",
              "2017-01-05 18:15:10           7.02    39:42         5:39   \n",
              "\n",
              "                     Average Speed (km/h)  Calories Burned  Climb (m)  \\\n",
              "Date                                                                    \n",
              "2015-12-23 18:45:03                 10.29            693.0         95   \n",
              "2015-06-22 18:19:53                 11.16           1294.0        156   \n",
              "2017-01-05 18:15:10                 10.61            493.0         68   \n",
              "\n",
              "                     Average Heart Rate (bpm)  Friend's Tagged  \\\n",
              "Date                                                             \n",
              "2015-12-23 18:45:03                     158.0              NaN   \n",
              "2015-06-22 18:19:53                     141.0              NaN   \n",
              "2017-01-05 18:15:10                     143.0              NaN   \n",
              "\n",
              "                                     Notes               GPX File  \n",
              "Date                                                               \n",
              "2015-12-23 18:45:03  TomTom MySports Watch  2015-12-23-184503.gpx  \n",
              "2015-06-22 18:19:53                    NaN  2015-06-22-181953.gpx  \n",
              "2017-01-05 18:15:10  TomTom MySports Watch  2017-01-05-181510.gpx  "
            ],
            "text/html": [
              "\n",
              "  <div id=\"df-e10ebbaf-e265-415d-88d3-d2daad6a2f2f\">\n",
              "    <div class=\"colab-df-container\">\n",
              "      <div>\n",
              "<style scoped>\n",
              "    .dataframe tbody tr th:only-of-type {\n",
              "        vertical-align: middle;\n",
              "    }\n",
              "\n",
              "    .dataframe tbody tr th {\n",
              "        vertical-align: top;\n",
              "    }\n",
              "\n",
              "    .dataframe thead th {\n",
              "        text-align: right;\n",
              "    }\n",
              "</style>\n",
              "<table border=\"1\" class=\"dataframe\">\n",
              "  <thead>\n",
              "    <tr style=\"text-align: right;\">\n",
              "      <th></th>\n",
              "      <th>Activity Id</th>\n",
              "      <th>Type</th>\n",
              "      <th>Route Name</th>\n",
              "      <th>Distance (km)</th>\n",
              "      <th>Duration</th>\n",
              "      <th>Average Pace</th>\n",
              "      <th>Average Speed (km/h)</th>\n",
              "      <th>Calories Burned</th>\n",
              "      <th>Climb (m)</th>\n",
              "      <th>Average Heart Rate (bpm)</th>\n",
              "      <th>Friend's Tagged</th>\n",
              "      <th>Notes</th>\n",
              "      <th>GPX File</th>\n",
              "    </tr>\n",
              "    <tr>\n",
              "      <th>Date</th>\n",
              "      <th></th>\n",
              "      <th></th>\n",
              "      <th></th>\n",
              "      <th></th>\n",
              "      <th></th>\n",
              "      <th></th>\n",
              "      <th></th>\n",
              "      <th></th>\n",
              "      <th></th>\n",
              "      <th></th>\n",
              "      <th></th>\n",
              "      <th></th>\n",
              "      <th></th>\n",
              "    </tr>\n",
              "  </thead>\n",
              "  <tbody>\n",
              "    <tr>\n",
              "      <th>2015-12-23 18:45:03</th>\n",
              "      <td>49f7059a-97c3-499e-9f42-85df1506aa90</td>\n",
              "      <td>Running</td>\n",
              "      <td>NaN</td>\n",
              "      <td>10.12</td>\n",
              "      <td>59:02</td>\n",
              "      <td>5:50</td>\n",
              "      <td>10.29</td>\n",
              "      <td>693.0</td>\n",
              "      <td>95</td>\n",
              "      <td>158.0</td>\n",
              "      <td>NaN</td>\n",
              "      <td>TomTom MySports Watch</td>\n",
              "      <td>2015-12-23-184503.gpx</td>\n",
              "    </tr>\n",
              "    <tr>\n",
              "      <th>2015-06-22 18:19:53</th>\n",
              "      <td>2b3bb63b-e5b7-419e-9b53-744ce195fa83</td>\n",
              "      <td>Running</td>\n",
              "      <td>NaN</td>\n",
              "      <td>18.84</td>\n",
              "      <td>1:41:17</td>\n",
              "      <td>5:22</td>\n",
              "      <td>11.16</td>\n",
              "      <td>1294.0</td>\n",
              "      <td>156</td>\n",
              "      <td>141.0</td>\n",
              "      <td>NaN</td>\n",
              "      <td>NaN</td>\n",
              "      <td>2015-06-22-181953.gpx</td>\n",
              "    </tr>\n",
              "    <tr>\n",
              "      <th>2017-01-05 18:15:10</th>\n",
              "      <td>e6f58116-e2c7-4f3a-848e-0529635f8bb3</td>\n",
              "      <td>Running</td>\n",
              "      <td>NaN</td>\n",
              "      <td>7.02</td>\n",
              "      <td>39:42</td>\n",
              "      <td>5:39</td>\n",
              "      <td>10.61</td>\n",
              "      <td>493.0</td>\n",
              "      <td>68</td>\n",
              "      <td>143.0</td>\n",
              "      <td>NaN</td>\n",
              "      <td>TomTom MySports Watch</td>\n",
              "      <td>2017-01-05-181510.gpx</td>\n",
              "    </tr>\n",
              "  </tbody>\n",
              "</table>\n",
              "</div>\n",
              "      <button class=\"colab-df-convert\" onclick=\"convertToInteractive('df-e10ebbaf-e265-415d-88d3-d2daad6a2f2f')\"\n",
              "              title=\"Convert this dataframe to an interactive table.\"\n",
              "              style=\"display:none;\">\n",
              "        \n",
              "  <svg xmlns=\"http://www.w3.org/2000/svg\" height=\"24px\"viewBox=\"0 0 24 24\"\n",
              "       width=\"24px\">\n",
              "    <path d=\"M0 0h24v24H0V0z\" fill=\"none\"/>\n",
              "    <path d=\"M18.56 5.44l.94 2.06.94-2.06 2.06-.94-2.06-.94-.94-2.06-.94 2.06-2.06.94zm-11 1L8.5 8.5l.94-2.06 2.06-.94-2.06-.94L8.5 2.5l-.94 2.06-2.06.94zm10 10l.94 2.06.94-2.06 2.06-.94-2.06-.94-.94-2.06-.94 2.06-2.06.94z\"/><path d=\"M17.41 7.96l-1.37-1.37c-.4-.4-.92-.59-1.43-.59-.52 0-1.04.2-1.43.59L10.3 9.45l-7.72 7.72c-.78.78-.78 2.05 0 2.83L4 21.41c.39.39.9.59 1.41.59.51 0 1.02-.2 1.41-.59l7.78-7.78 2.81-2.81c.8-.78.8-2.07 0-2.86zM5.41 20L4 18.59l7.72-7.72 1.47 1.35L5.41 20z\"/>\n",
              "  </svg>\n",
              "      </button>\n",
              "      \n",
              "  <style>\n",
              "    .colab-df-container {\n",
              "      display:flex;\n",
              "      flex-wrap:wrap;\n",
              "      gap: 12px;\n",
              "    }\n",
              "\n",
              "    .colab-df-convert {\n",
              "      background-color: #E8F0FE;\n",
              "      border: none;\n",
              "      border-radius: 50%;\n",
              "      cursor: pointer;\n",
              "      display: none;\n",
              "      fill: #1967D2;\n",
              "      height: 32px;\n",
              "      padding: 0 0 0 0;\n",
              "      width: 32px;\n",
              "    }\n",
              "\n",
              "    .colab-df-convert:hover {\n",
              "      background-color: #E2EBFA;\n",
              "      box-shadow: 0px 1px 2px rgba(60, 64, 67, 0.3), 0px 1px 3px 1px rgba(60, 64, 67, 0.15);\n",
              "      fill: #174EA6;\n",
              "    }\n",
              "\n",
              "    [theme=dark] .colab-df-convert {\n",
              "      background-color: #3B4455;\n",
              "      fill: #D2E3FC;\n",
              "    }\n",
              "\n",
              "    [theme=dark] .colab-df-convert:hover {\n",
              "      background-color: #434B5C;\n",
              "      box-shadow: 0px 1px 3px 1px rgba(0, 0, 0, 0.15);\n",
              "      filter: drop-shadow(0px 1px 2px rgba(0, 0, 0, 0.3));\n",
              "      fill: #FFFFFF;\n",
              "    }\n",
              "  </style>\n",
              "\n",
              "      <script>\n",
              "        const buttonEl =\n",
              "          document.querySelector('#df-e10ebbaf-e265-415d-88d3-d2daad6a2f2f button.colab-df-convert');\n",
              "        buttonEl.style.display =\n",
              "          google.colab.kernel.accessAllowed ? 'block' : 'none';\n",
              "\n",
              "        async function convertToInteractive(key) {\n",
              "          const element = document.querySelector('#df-e10ebbaf-e265-415d-88d3-d2daad6a2f2f');\n",
              "          const dataTable =\n",
              "            await google.colab.kernel.invokeFunction('convertToInteractive',\n",
              "                                                     [key], {});\n",
              "          if (!dataTable) return;\n",
              "\n",
              "          const docLinkHtml = 'Like what you see? Visit the ' +\n",
              "            '<a target=\"_blank\" href=https://colab.research.google.com/notebooks/data_table.ipynb>data table notebook</a>'\n",
              "            + ' to learn more about interactive tables.';\n",
              "          element.innerHTML = '';\n",
              "          dataTable['output_type'] = 'display_data';\n",
              "          await google.colab.output.renderOutput(dataTable, element);\n",
              "          const docLink = document.createElement('div');\n",
              "          docLink.innerHTML = docLinkHtml;\n",
              "          element.appendChild(docLink);\n",
              "        }\n",
              "      </script>\n",
              "    </div>\n",
              "  </div>\n",
              "  "
            ]
          },
          "metadata": {}
        },
        {
          "output_type": "stream",
          "name": "stdout",
          "text": [
            "<class 'pandas.core.frame.DataFrame'>\n",
            "DatetimeIndex: 508 entries, 2018-11-11 14:05:12 to 2012-08-22 18:53:54\n",
            "Data columns (total 13 columns):\n",
            " #   Column                    Non-Null Count  Dtype  \n",
            "---  ------                    --------------  -----  \n",
            " 0   Activity Id               508 non-null    object \n",
            " 1   Type                      508 non-null    object \n",
            " 2   Route Name                1 non-null      object \n",
            " 3   Distance (km)             508 non-null    float64\n",
            " 4   Duration                  508 non-null    object \n",
            " 5   Average Pace              508 non-null    object \n",
            " 6   Average Speed (km/h)      508 non-null    float64\n",
            " 7   Calories Burned           508 non-null    float64\n",
            " 8   Climb (m)                 508 non-null    int64  \n",
            " 9   Average Heart Rate (bpm)  294 non-null    float64\n",
            " 10  Friend's Tagged           0 non-null      float64\n",
            " 11  Notes                     231 non-null    object \n",
            " 12  GPX File                  504 non-null    object \n",
            "dtypes: float64(5), int64(1), object(7)\n",
            "memory usage: 55.6+ KB\n"
          ]
        },
        {
          "output_type": "display_data",
          "data": {
            "text/plain": [
              "None"
            ]
          },
          "metadata": {}
        }
      ],
      "source": [
        "import pandas as pd\n",
        "\n",
        "# Define file containing dataset\n",
        "runkeeper_file = '/content/cardioActivities.csv'\n",
        "\n",
        "# Create DataFrame with parse_dates and index_col parameters \n",
        "df_activities = pd.read_csv(runkeeper_file, parse_dates=True, index_col='Date')\n",
        "\n",
        "# First look at exported data: select sample of 3 random rows \n",
        "display(df_activities.sample(3))\n",
        "\n",
        "# Print DataFrame summary\n",
        "display(df_activities.info())"
      ]
    },
    {
      "cell_type": "markdown",
      "metadata": {
        "dc": {
          "key": "12"
        },
        "deletable": false,
        "editable": false,
        "run_control": {
          "frozen": true
        },
        "tags": [
          "context"
        ],
        "id": "KkjC4Xlc3WpR"
      },
      "source": [
        "## 2. Data preprocessing\n",
        "<p>Lucky for us, the column names Runkeeper provides are informative, and we don't need to rename any columns.</p>\n",
        "<p>But, we do notice missing values using the <code>info()</code> method. What are the reasons for these missing values? It depends. Some heart rate information is missing because I didn't always use a cardio sensor. In the case of the <code>Notes</code> column, it is an optional field that I sometimes left blank. Also, I only used the <code>Route Name</code> column once, and never used the <code>Friend's Tagged</code> column.</p>\n",
        "<p>We'll fill in missing values in the heart rate column to avoid misleading results later, but right now, our first data preprocessing steps will be to:</p>\n",
        "<ul>\n",
        "<li>Remove columns not useful for our analysis.</li>\n",
        "<li>Replace the \"Other\" activity type to \"Unicycling\" because that was always the \"Other\" activity.</li>\n",
        "<li>Count missing values.</li>\n",
        "</ul>"
      ]
    },
    {
      "cell_type": "code",
      "execution_count": null,
      "metadata": {
        "dc": {
          "key": "12"
        },
        "tags": [
          "sample_code"
        ],
        "colab": {
          "base_uri": "https://localhost:8080/",
          "height": 243
        },
        "id": "C8-bsaPs3WpT",
        "outputId": "4c50f7b1-7092-45b9-844e-bc8d2b28a7f9"
      },
      "outputs": [
        {
          "output_type": "display_data",
          "data": {
            "text/plain": [
              "Running    459\n",
              "Cycling     29\n",
              "Walking     18\n",
              "Other        2\n",
              "Name: Type, dtype: int64"
            ]
          },
          "metadata": {}
        },
        {
          "output_type": "execute_result",
          "data": {
            "text/plain": [
              "Type                          0\n",
              "Distance (km)                 0\n",
              "Duration                      0\n",
              "Average Pace                  0\n",
              "Average Speed (km/h)          0\n",
              "Climb (m)                     0\n",
              "Average Heart Rate (bpm)    214\n",
              "dtype: int64"
            ]
          },
          "metadata": {},
          "execution_count": 7
        }
      ],
      "source": [
        "cols_to_drop = ['Friend\\'s Tagged','Route Name','GPX File','Activity Id','Calories Burned', 'Notes']\n",
        "\n",
        "# Delete unnecessary columns\n",
        "df_activities.drop(columns=cols_to_drop, inplace=True)\n",
        "\n",
        "# Count types of training activities\n",
        "display(df_activities['Type'].value_counts())\n",
        "\n",
        "# Rename 'Other' type to 'Unicycling'\n",
        "df_activities['Type'] = df_activities['Type'].str.replace('Other', 'Unicycling')\n",
        "\n",
        "# Count missing values for each column\n",
        "df_activities.isnull().sum()"
      ]
    },
    {
      "cell_type": "markdown",
      "metadata": {
        "dc": {
          "key": "19"
        },
        "deletable": false,
        "editable": false,
        "run_control": {
          "frozen": true
        },
        "tags": [
          "context"
        ],
        "id": "W-GKHsLx3WpV"
      },
      "source": [
        "## 3. Dealing with missing values\n",
        "<p>As we can see from the last output, there are 214 missing entries for my average heart rate.</p>\n",
        "<p>We can't go back in time to get those data, but we can fill in the missing values with an average value. This process is called <em>mean imputation</em>. When imputing the mean to fill in missing data, we need to consider that the average heart rate varies for different activities (e.g., walking vs. running). We'll filter the DataFrames by activity type (<code>Type</code>) and calculate each activity's mean heart rate, then fill in the missing values with those means.</p>"
      ]
    },
    {
      "cell_type": "code",
      "execution_count": null,
      "metadata": {
        "dc": {
          "key": "19"
        },
        "tags": [
          "sample_code"
        ],
        "colab": {
          "base_uri": "https://localhost:8080/"
        },
        "id": "4gs_nOQs3WpW",
        "outputId": "a7355055-7ecc-41b4-cb41-8fe0b5bc1402"
      },
      "outputs": [
        {
          "output_type": "execute_result",
          "data": {
            "text/plain": [
              "Type                        0\n",
              "Distance (km)               0\n",
              "Duration                    0\n",
              "Average Pace                0\n",
              "Average Speed (km/h)        0\n",
              "Climb (m)                   0\n",
              "Average Heart Rate (bpm)    0\n",
              "dtype: int64"
            ]
          },
          "metadata": {},
          "execution_count": 8
        }
      ],
      "source": [
        "avg_hr_run = df_activities[df_activities['Type'] == 'Running']['Average Heart Rate (bpm)'].mean()\n",
        "avg_hr_cycle = df_activities[df_activities['Type'] == 'Cycling']['Average Heart Rate (bpm)'].mean()\n",
        "\n",
        "# Split whole DataFrame into several, specific for different activities\n",
        "df_run = df_activities[df_activities['Type'] == 'Running'].copy()\n",
        "df_walk = df_activities[df_activities['Type'] == 'Walking'].copy()\n",
        "df_cycle = df_activities[df_activities['Type'] == 'Cycling'].copy()\n",
        "\n",
        "# Filling missing values with counted means  \n",
        "df_walk['Average Heart Rate (bpm)'].fillna(110, inplace=True)\n",
        "df_run['Average Heart Rate (bpm)'].fillna(int(avg_hr_run), inplace=True)\n",
        "df_cycle['Average Heart Rate (bpm)'].fillna(int(avg_hr_cycle), inplace=True)\n",
        "\n",
        "# Count missing values for each column in running data\n",
        "df_run.isnull().sum()"
      ]
    },
    {
      "cell_type": "markdown",
      "metadata": {
        "dc": {
          "key": "26"
        },
        "deletable": false,
        "editable": false,
        "run_control": {
          "frozen": true
        },
        "tags": [
          "context"
        ],
        "id": "2Iw8GSwk3WpY"
      },
      "source": [
        "## 4. Plot running data\n",
        "<p>Now we can create our first plot! As we found earlier, most of the activities in my data were running (459 of them to be exact). There are only 29, 18, and two instances for cycling, walking, and unicycling, respectively. So for now, let's focus on plotting the different running metrics.</p>\n",
        "<p>An excellent first visualization is a figure with four subplots, one for each running metric (each numerical column). Each subplot will have a different y-axis, which is explained in each legend. The x-axis, <code>Date</code>, is shared among all subplots.</p>"
      ]
    },
    {
      "cell_type": "code",
      "source": [
        "df_run"
      ],
      "metadata": {
        "colab": {
          "base_uri": "https://localhost:8080/",
          "height": 455
        },
        "id": "jGDzs6yXl7bp",
        "outputId": "8d727aa1-96ee-407f-b04b-f8f917fb7d49"
      },
      "execution_count": null,
      "outputs": [
        {
          "output_type": "execute_result",
          "data": {
            "text/plain": [
              "                        Type  Distance (km) Duration Average Pace  \\\n",
              "Date                                                                \n",
              "2018-11-11 14:05:12  Running          10.44    58:40         5:37   \n",
              "2018-11-09 15:02:35  Running          12.84  1:14:12         5:47   \n",
              "2018-11-04 16:05:00  Running          13.01  1:15:16         5:47   \n",
              "2018-11-01 14:03:58  Running          12.98  1:14:25         5:44   \n",
              "2018-10-27 17:01:36  Running          13.02  1:12:50         5:36   \n",
              "...                      ...            ...      ...          ...   \n",
              "2012-09-08 08:35:02  Running           3.27    15:55         4:52   \n",
              "2012-09-04 19:12:17  Running           6.26    32:35         5:12   \n",
              "2012-09-02 08:41:31  Running           3.14    16:16         5:11   \n",
              "2012-08-24 08:13:12  Running           3.15    16:00         5:05   \n",
              "2012-08-22 18:53:54  Running           5.69    31:08         5:29   \n",
              "\n",
              "                     Average Speed (km/h)  Climb (m)  Average Heart Rate (bpm)  \n",
              "Date                                                                            \n",
              "2018-11-11 14:05:12                 10.68        130                     159.0  \n",
              "2018-11-09 15:02:35                 10.39        168                     159.0  \n",
              "2018-11-04 16:05:00                 10.37        171                     155.0  \n",
              "2018-11-01 14:03:58                 10.47        169                     158.0  \n",
              "2018-10-27 17:01:36                 10.73        170                     154.0  \n",
              "...                                   ...        ...                       ...  \n",
              "2012-09-08 08:35:02                 12.32         15                     144.0  \n",
              "2012-09-04 19:12:17                 11.53         34                     144.0  \n",
              "2012-09-02 08:41:31                 11.56         18                     144.0  \n",
              "2012-08-24 08:13:12                 11.82         17                     144.0  \n",
              "2012-08-22 18:53:54                 10.95         32                     144.0  \n",
              "\n",
              "[459 rows x 7 columns]"
            ],
            "text/html": [
              "\n",
              "  <div id=\"df-a318dc41-136a-4ada-9a80-93ad9959a288\">\n",
              "    <div class=\"colab-df-container\">\n",
              "      <div>\n",
              "<style scoped>\n",
              "    .dataframe tbody tr th:only-of-type {\n",
              "        vertical-align: middle;\n",
              "    }\n",
              "\n",
              "    .dataframe tbody tr th {\n",
              "        vertical-align: top;\n",
              "    }\n",
              "\n",
              "    .dataframe thead th {\n",
              "        text-align: right;\n",
              "    }\n",
              "</style>\n",
              "<table border=\"1\" class=\"dataframe\">\n",
              "  <thead>\n",
              "    <tr style=\"text-align: right;\">\n",
              "      <th></th>\n",
              "      <th>Type</th>\n",
              "      <th>Distance (km)</th>\n",
              "      <th>Duration</th>\n",
              "      <th>Average Pace</th>\n",
              "      <th>Average Speed (km/h)</th>\n",
              "      <th>Climb (m)</th>\n",
              "      <th>Average Heart Rate (bpm)</th>\n",
              "    </tr>\n",
              "    <tr>\n",
              "      <th>Date</th>\n",
              "      <th></th>\n",
              "      <th></th>\n",
              "      <th></th>\n",
              "      <th></th>\n",
              "      <th></th>\n",
              "      <th></th>\n",
              "      <th></th>\n",
              "    </tr>\n",
              "  </thead>\n",
              "  <tbody>\n",
              "    <tr>\n",
              "      <th>2018-11-11 14:05:12</th>\n",
              "      <td>Running</td>\n",
              "      <td>10.44</td>\n",
              "      <td>58:40</td>\n",
              "      <td>5:37</td>\n",
              "      <td>10.68</td>\n",
              "      <td>130</td>\n",
              "      <td>159.0</td>\n",
              "    </tr>\n",
              "    <tr>\n",
              "      <th>2018-11-09 15:02:35</th>\n",
              "      <td>Running</td>\n",
              "      <td>12.84</td>\n",
              "      <td>1:14:12</td>\n",
              "      <td>5:47</td>\n",
              "      <td>10.39</td>\n",
              "      <td>168</td>\n",
              "      <td>159.0</td>\n",
              "    </tr>\n",
              "    <tr>\n",
              "      <th>2018-11-04 16:05:00</th>\n",
              "      <td>Running</td>\n",
              "      <td>13.01</td>\n",
              "      <td>1:15:16</td>\n",
              "      <td>5:47</td>\n",
              "      <td>10.37</td>\n",
              "      <td>171</td>\n",
              "      <td>155.0</td>\n",
              "    </tr>\n",
              "    <tr>\n",
              "      <th>2018-11-01 14:03:58</th>\n",
              "      <td>Running</td>\n",
              "      <td>12.98</td>\n",
              "      <td>1:14:25</td>\n",
              "      <td>5:44</td>\n",
              "      <td>10.47</td>\n",
              "      <td>169</td>\n",
              "      <td>158.0</td>\n",
              "    </tr>\n",
              "    <tr>\n",
              "      <th>2018-10-27 17:01:36</th>\n",
              "      <td>Running</td>\n",
              "      <td>13.02</td>\n",
              "      <td>1:12:50</td>\n",
              "      <td>5:36</td>\n",
              "      <td>10.73</td>\n",
              "      <td>170</td>\n",
              "      <td>154.0</td>\n",
              "    </tr>\n",
              "    <tr>\n",
              "      <th>...</th>\n",
              "      <td>...</td>\n",
              "      <td>...</td>\n",
              "      <td>...</td>\n",
              "      <td>...</td>\n",
              "      <td>...</td>\n",
              "      <td>...</td>\n",
              "      <td>...</td>\n",
              "    </tr>\n",
              "    <tr>\n",
              "      <th>2012-09-08 08:35:02</th>\n",
              "      <td>Running</td>\n",
              "      <td>3.27</td>\n",
              "      <td>15:55</td>\n",
              "      <td>4:52</td>\n",
              "      <td>12.32</td>\n",
              "      <td>15</td>\n",
              "      <td>144.0</td>\n",
              "    </tr>\n",
              "    <tr>\n",
              "      <th>2012-09-04 19:12:17</th>\n",
              "      <td>Running</td>\n",
              "      <td>6.26</td>\n",
              "      <td>32:35</td>\n",
              "      <td>5:12</td>\n",
              "      <td>11.53</td>\n",
              "      <td>34</td>\n",
              "      <td>144.0</td>\n",
              "    </tr>\n",
              "    <tr>\n",
              "      <th>2012-09-02 08:41:31</th>\n",
              "      <td>Running</td>\n",
              "      <td>3.14</td>\n",
              "      <td>16:16</td>\n",
              "      <td>5:11</td>\n",
              "      <td>11.56</td>\n",
              "      <td>18</td>\n",
              "      <td>144.0</td>\n",
              "    </tr>\n",
              "    <tr>\n",
              "      <th>2012-08-24 08:13:12</th>\n",
              "      <td>Running</td>\n",
              "      <td>3.15</td>\n",
              "      <td>16:00</td>\n",
              "      <td>5:05</td>\n",
              "      <td>11.82</td>\n",
              "      <td>17</td>\n",
              "      <td>144.0</td>\n",
              "    </tr>\n",
              "    <tr>\n",
              "      <th>2012-08-22 18:53:54</th>\n",
              "      <td>Running</td>\n",
              "      <td>5.69</td>\n",
              "      <td>31:08</td>\n",
              "      <td>5:29</td>\n",
              "      <td>10.95</td>\n",
              "      <td>32</td>\n",
              "      <td>144.0</td>\n",
              "    </tr>\n",
              "  </tbody>\n",
              "</table>\n",
              "<p>459 rows × 7 columns</p>\n",
              "</div>\n",
              "      <button class=\"colab-df-convert\" onclick=\"convertToInteractive('df-a318dc41-136a-4ada-9a80-93ad9959a288')\"\n",
              "              title=\"Convert this dataframe to an interactive table.\"\n",
              "              style=\"display:none;\">\n",
              "        \n",
              "  <svg xmlns=\"http://www.w3.org/2000/svg\" height=\"24px\"viewBox=\"0 0 24 24\"\n",
              "       width=\"24px\">\n",
              "    <path d=\"M0 0h24v24H0V0z\" fill=\"none\"/>\n",
              "    <path d=\"M18.56 5.44l.94 2.06.94-2.06 2.06-.94-2.06-.94-.94-2.06-.94 2.06-2.06.94zm-11 1L8.5 8.5l.94-2.06 2.06-.94-2.06-.94L8.5 2.5l-.94 2.06-2.06.94zm10 10l.94 2.06.94-2.06 2.06-.94-2.06-.94-.94-2.06-.94 2.06-2.06.94z\"/><path d=\"M17.41 7.96l-1.37-1.37c-.4-.4-.92-.59-1.43-.59-.52 0-1.04.2-1.43.59L10.3 9.45l-7.72 7.72c-.78.78-.78 2.05 0 2.83L4 21.41c.39.39.9.59 1.41.59.51 0 1.02-.2 1.41-.59l7.78-7.78 2.81-2.81c.8-.78.8-2.07 0-2.86zM5.41 20L4 18.59l7.72-7.72 1.47 1.35L5.41 20z\"/>\n",
              "  </svg>\n",
              "      </button>\n",
              "      \n",
              "  <style>\n",
              "    .colab-df-container {\n",
              "      display:flex;\n",
              "      flex-wrap:wrap;\n",
              "      gap: 12px;\n",
              "    }\n",
              "\n",
              "    .colab-df-convert {\n",
              "      background-color: #E8F0FE;\n",
              "      border: none;\n",
              "      border-radius: 50%;\n",
              "      cursor: pointer;\n",
              "      display: none;\n",
              "      fill: #1967D2;\n",
              "      height: 32px;\n",
              "      padding: 0 0 0 0;\n",
              "      width: 32px;\n",
              "    }\n",
              "\n",
              "    .colab-df-convert:hover {\n",
              "      background-color: #E2EBFA;\n",
              "      box-shadow: 0px 1px 2px rgba(60, 64, 67, 0.3), 0px 1px 3px 1px rgba(60, 64, 67, 0.15);\n",
              "      fill: #174EA6;\n",
              "    }\n",
              "\n",
              "    [theme=dark] .colab-df-convert {\n",
              "      background-color: #3B4455;\n",
              "      fill: #D2E3FC;\n",
              "    }\n",
              "\n",
              "    [theme=dark] .colab-df-convert:hover {\n",
              "      background-color: #434B5C;\n",
              "      box-shadow: 0px 1px 3px 1px rgba(0, 0, 0, 0.15);\n",
              "      filter: drop-shadow(0px 1px 2px rgba(0, 0, 0, 0.3));\n",
              "      fill: #FFFFFF;\n",
              "    }\n",
              "  </style>\n",
              "\n",
              "      <script>\n",
              "        const buttonEl =\n",
              "          document.querySelector('#df-a318dc41-136a-4ada-9a80-93ad9959a288 button.colab-df-convert');\n",
              "        buttonEl.style.display =\n",
              "          google.colab.kernel.accessAllowed ? 'block' : 'none';\n",
              "\n",
              "        async function convertToInteractive(key) {\n",
              "          const element = document.querySelector('#df-a318dc41-136a-4ada-9a80-93ad9959a288');\n",
              "          const dataTable =\n",
              "            await google.colab.kernel.invokeFunction('convertToInteractive',\n",
              "                                                     [key], {});\n",
              "          if (!dataTable) return;\n",
              "\n",
              "          const docLinkHtml = 'Like what you see? Visit the ' +\n",
              "            '<a target=\"_blank\" href=https://colab.research.google.com/notebooks/data_table.ipynb>data table notebook</a>'\n",
              "            + ' to learn more about interactive tables.';\n",
              "          element.innerHTML = '';\n",
              "          dataTable['output_type'] = 'display_data';\n",
              "          await google.colab.output.renderOutput(dataTable, element);\n",
              "          const docLink = document.createElement('div');\n",
              "          docLink.innerHTML = docLinkHtml;\n",
              "          element.appendChild(docLink);\n",
              "        }\n",
              "      </script>\n",
              "    </div>\n",
              "  </div>\n",
              "  "
            ]
          },
          "metadata": {},
          "execution_count": 9
        }
      ]
    },
    {
      "cell_type": "code",
      "execution_count": null,
      "metadata": {
        "dc": {
          "key": "26"
        },
        "tags": [
          "sample_code"
        ],
        "colab": {
          "base_uri": "https://localhost:8080/",
          "height": 993
        },
        "id": "t2qTu0iC3Wpa",
        "outputId": "3d2a0418-2da7-4468-92f5-2407eba5e402"
      },
      "outputs": [
        {
          "output_type": "stream",
          "name": "stderr",
          "text": [
            "/usr/local/lib/python3.7/dist-packages/ipykernel_launcher.py:14: FutureWarning: Value based partial slicing on non-monotonic DatetimeIndexes with non-existing keys is deprecated and will raise a KeyError in a future Version.\n",
            "  \n"
          ]
        },
        {
          "output_type": "display_data",
          "data": {
            "text/plain": [
              "<Figure size 864x1152 with 4 Axes>"
            ],
            "image/png": "[encoded data removed]"
          },
          "metadata": {}
        }
      ],
      "source": [
        "\n",
        "\n",
        "%matplotlib inline\n",
        "\n",
        "# Import matplotlib, set style and ignore warning\n",
        "import matplotlib.pyplot as plt\n",
        "%matplotlib inline\n",
        "import warnings\n",
        "plt.style.use('ggplot')\n",
        "warnings.filterwarnings(\n",
        "    action='ignore', module='matplotlib.figure', category=UserWarning,\n",
        "    message=('This figure includes Axes that are not compatible with tight_layout, so results might be incorrect.')\n",
        ")\n",
        "\n",
        "# Prepare data subsetting period from 2013 till 2018\n",
        "runs_subset_2013_2018 = df_run['2013':'2018']\n",
        "\n",
        "# Create, plot and customize in one step\n",
        "runs_subset_2013_2018.plot(subplots=True,\n",
        "                           sharex=False,\n",
        "                           figsize=(12,16),\n",
        "                           linestyle='none',\n",
        "                           marker='o',\n",
        "                           markersize=3,\n",
        "                          )\n",
        "\n",
        "# Show plot\n",
        "plt.show()"
      ]
    },
    {
      "cell_type": "markdown",
      "metadata": {
        "dc": {
          "key": "33"
        },
        "deletable": false,
        "editable": false,
        "run_control": {
          "frozen": true
        },
        "tags": [
          "context"
        ],
        "id": "U9J4_uiK3Wpb"
      },
      "source": [
        "## 5. Running statistics\n",
        "<p>No doubt, running helps people stay mentally and physically healthy and productive at any age. And it is great fun! When runners talk to each other about their hobby, we not only discuss our results, but we also discuss different training strategies. </p>\n",
        "<p>You'll know you're with a group of runners if you commonly hear questions like:</p>\n",
        "<ul>\n",
        "<li>What is your average distance?</li>\n",
        "<li>How fast do you run?</li>\n",
        "<li>Do you measure your heart rate?</li>\n",
        "<li>How often do you train?</li>\n",
        "</ul>\n",
        "<p>Let's find the answers to these questions in my data. If you look back at plots in Task 4, you can see the answer to, <em>Do you measure your heart rate?</em> Before 2015: no. To look at the averages, let's only use the data from 2015 through 2018.</p>\n",
        "<p>In pandas, the <code>resample()</code> method is similar to the <code>groupby()</code> method - with <code>resample()</code> you group by a specific time span. We'll use <code>resample()</code> to group the time series data by a sampling period and apply several methods to each sampling period. In our case, we'll resample annually and weekly.</p>"
      ]
    },
    {
      "cell_type": "code",
      "execution_count": null,
      "metadata": {
        "dc": {
          "key": "33"
        },
        "tags": [
          "sample_code"
        ],
        "colab": {
          "base_uri": "https://localhost:8080/",
          "height": 337
        },
        "id": "2Fmemjqn3Wpd",
        "outputId": "1bd53343-dbac-4b3a-822b-d30a995936c9"
      },
      "outputs": [
        {
          "output_type": "stream",
          "name": "stdout",
          "text": [
            "How my average run looks in last 4 years:\n"
          ]
        },
        {
          "output_type": "stream",
          "name": "stderr",
          "text": [
            "/usr/local/lib/python3.7/dist-packages/ipykernel_launcher.py:1: FutureWarning: Value based partial slicing on non-monotonic DatetimeIndexes with non-existing keys is deprecated and will raise a KeyError in a future Version.\n",
            "  \"\"\"Entry point for launching an IPython kernel.\n"
          ]
        },
        {
          "output_type": "display_data",
          "data": {
            "text/plain": [
              "            Distance (km)  Average Speed (km/h)   Climb (m)  \\\n",
              "Date                                                          \n",
              "2016-12-31      11.411667             10.837778  133.194444   \n",
              "2017-12-31      12.935176             10.959059  169.376471   \n",
              "\n",
              "            Average Heart Rate (bpm)  \n",
              "Date                                  \n",
              "2016-12-31                143.388889  \n",
              "2017-12-31                145.247059  "
            ],
            "text/html": [
              "\n",
              "  <div id=\"df-b084a9f3-5b22-4342-993f-0644b8513de3\">\n",
              "    <div class=\"colab-df-container\">\n",
              "      <div>\n",
              "<style scoped>\n",
              "    .dataframe tbody tr th:only-of-type {\n",
              "        vertical-align: middle;\n",
              "    }\n",
              "\n",
              "    .dataframe tbody tr th {\n",
              "        vertical-align: top;\n",
              "    }\n",
              "\n",
              "    .dataframe thead th {\n",
              "        text-align: right;\n",
              "    }\n",
              "</style>\n",
              "<table border=\"1\" class=\"dataframe\">\n",
              "  <thead>\n",
              "    <tr style=\"text-align: right;\">\n",
              "      <th></th>\n",
              "      <th>Distance (km)</th>\n",
              "      <th>Average Speed (km/h)</th>\n",
              "      <th>Climb (m)</th>\n",
              "      <th>Average Heart Rate (bpm)</th>\n",
              "    </tr>\n",
              "    <tr>\n",
              "      <th>Date</th>\n",
              "      <th></th>\n",
              "      <th></th>\n",
              "      <th></th>\n",
              "      <th></th>\n",
              "    </tr>\n",
              "  </thead>\n",
              "  <tbody>\n",
              "    <tr>\n",
              "      <th>2016-12-31</th>\n",
              "      <td>11.411667</td>\n",
              "      <td>10.837778</td>\n",
              "      <td>133.194444</td>\n",
              "      <td>143.388889</td>\n",
              "    </tr>\n",
              "    <tr>\n",
              "      <th>2017-12-31</th>\n",
              "      <td>12.935176</td>\n",
              "      <td>10.959059</td>\n",
              "      <td>169.376471</td>\n",
              "      <td>145.247059</td>\n",
              "    </tr>\n",
              "  </tbody>\n",
              "</table>\n",
              "</div>\n",
              "      <button class=\"colab-df-convert\" onclick=\"convertToInteractive('df-b084a9f3-5b22-4342-993f-0644b8513de3')\"\n",
              "              title=\"Convert this dataframe to an interactive table.\"\n",
              "              style=\"display:none;\">\n",
              "        \n",
              "  <svg xmlns=\"http://www.w3.org/2000/svg\" height=\"24px\"viewBox=\"0 0 24 24\"\n",
              "       width=\"24px\">\n",
              "    <path d=\"M0 0h24v24H0V0z\" fill=\"none\"/>\n",
              "    <path d=\"M18.56 5.44l.94 2.06.94-2.06 2.06-.94-2.06-.94-.94-2.06-.94 2.06-2.06.94zm-11 1L8.5 8.5l.94-2.06 2.06-.94-2.06-.94L8.5 2.5l-.94 2.06-2.06.94zm10 10l.94 2.06.94-2.06 2.06-.94-2.06-.94-.94-2.06-.94 2.06-2.06.94z\"/><path d=\"M17.41 7.96l-1.37-1.37c-.4-.4-.92-.59-1.43-.59-.52 0-1.04.2-1.43.59L10.3 9.45l-7.72 7.72c-.78.78-.78 2.05 0 2.83L4 21.41c.39.39.9.59 1.41.59.51 0 1.02-.2 1.41-.59l7.78-7.78 2.81-2.81c.8-.78.8-2.07 0-2.86zM5.41 20L4 18.59l7.72-7.72 1.47 1.35L5.41 20z\"/>\n",
              "  </svg>\n",
              "      </button>\n",
              "      \n",
              "  <style>\n",
              "    .colab-df-container {\n",
              "      display:flex;\n",
              "      flex-wrap:wrap;\n",
              "      gap: 12px;\n",
              "    }\n",
              "\n",
              "    .colab-df-convert {\n",
              "      background-color: #E8F0FE;\n",
              "      border: none;\n",
              "      border-radius: 50%;\n",
              "      cursor: pointer;\n",
              "      display: none;\n",
              "      fill: #1967D2;\n",
              "      height: 32px;\n",
              "      padding: 0 0 0 0;\n",
              "      width: 32px;\n",
              "    }\n",
              "\n",
              "    .colab-df-convert:hover {\n",
              "      background-color: #E2EBFA;\n",
              "      box-shadow: 0px 1px 2px rgba(60, 64, 67, 0.3), 0px 1px 3px 1px rgba(60, 64, 67, 0.15);\n",
              "      fill: #174EA6;\n",
              "    }\n",
              "\n",
              "    [theme=dark] .colab-df-convert {\n",
              "      background-color: #3B4455;\n",
              "      fill: #D2E3FC;\n",
              "    }\n",
              "\n",
              "    [theme=dark] .colab-df-convert:hover {\n",
              "      background-color: #434B5C;\n",
              "      box-shadow: 0px 1px 3px 1px rgba(0, 0, 0, 0.15);\n",
              "      filter: drop-shadow(0px 1px 2px rgba(0, 0, 0, 0.3));\n",
              "      fill: #FFFFFF;\n",
              "    }\n",
              "  </style>\n",
              "\n",
              "      <script>\n",
              "        const buttonEl =\n",
              "          document.querySelector('#df-b084a9f3-5b22-4342-993f-0644b8513de3 button.colab-df-convert');\n",
              "        buttonEl.style.display =\n",
              "          google.colab.kernel.accessAllowed ? 'block' : 'none';\n",
              "\n",
              "        async function convertToInteractive(key) {\n",
              "          const element = document.querySelector('#df-b084a9f3-5b22-4342-993f-0644b8513de3');\n",
              "          const dataTable =\n",
              "            await google.colab.kernel.invokeFunction('convertToInteractive',\n",
              "                                                     [key], {});\n",
              "          if (!dataTable) return;\n",
              "\n",
              "          const docLinkHtml = 'Like what you see? Visit the ' +\n",
              "            '<a target=\"_blank\" href=https://colab.research.google.com/notebooks/data_table.ipynb>data table notebook</a>'\n",
              "            + ' to learn more about interactive tables.';\n",
              "          element.innerHTML = '';\n",
              "          dataTable['output_type'] = 'display_data';\n",
              "          await google.colab.output.renderOutput(dataTable, element);\n",
              "          const docLink = document.createElement('div');\n",
              "          docLink.innerHTML = docLinkHtml;\n",
              "          element.appendChild(docLink);\n",
              "        }\n",
              "      </script>\n",
              "    </div>\n",
              "  </div>\n",
              "  "
            ]
          },
          "metadata": {}
        },
        {
          "output_type": "stream",
          "name": "stdout",
          "text": [
            "Weekly averages of last 4 years:\n"
          ]
        },
        {
          "output_type": "display_data",
          "data": {
            "text/plain": [
              "Distance (km)                12.020315\n",
              "Average Speed (km/h)         10.848722\n",
              "Climb (m)                   149.483333\n",
              "Average Heart Rate (bpm)    144.551852\n",
              "dtype: float64"
            ]
          },
          "metadata": {}
        },
        {
          "output_type": "stream",
          "name": "stdout",
          "text": [
            "How many trainings per week I had on average: 1.5242718446601942\n"
          ]
        }
      ],
      "source": [
        "runs_subset_2015_2018 = df_run['2015':'2018']\n",
        "\n",
        "# Calculate annual statistics\n",
        "print('How my average run looks in last 4 years:')\n",
        "display(runs_subset_2015_2018.resample('A').mean())\n",
        "\n",
        "# Calculate weekly statistics\n",
        "print('Weekly averages of last 4 years:')\n",
        "display(runs_subset_2015_2018.resample('W').mean().mean())\n",
        "\n",
        "# Mean weekly counts\n",
        "weekly_counts_average = runs_subset_2015_2018['Distance (km)'].resample('W').count().mean()\n",
        "print('How many trainings per week I had on average:', weekly_counts_average)"
      ]
    },
    {
      "cell_type": "markdown",
      "metadata": {
        "dc": {
          "key": "40"
        },
        "deletable": false,
        "editable": false,
        "run_control": {
          "frozen": true
        },
        "tags": [
          "context"
        ],
        "id": "njhK4EDT3Wpe"
      },
      "source": [
        "## 6. Visualization with averages\n",
        "<p>Let's plot the long term averages of my distance run and my heart rate with their raw data to visually compare the averages to each training session. Again, we'll use the data from 2015 through 2018.</p>\n",
        "<p>In this task, we will use <code>matplotlib</code> functionality for plot creation and customization.</p>"
      ]
    },
    {
      "cell_type": "code",
      "execution_count": null,
      "metadata": {
        "dc": {
          "key": "40"
        },
        "tags": [
          "sample_code"
        ],
        "colab": {
          "base_uri": "https://localhost:8080/",
          "height": 548
        },
        "id": "6AwbS4c03Wpf",
        "outputId": "89511be3-f0d9-4e5f-a964-17edb9b79395"
      },
      "outputs": [
        {
          "output_type": "stream",
          "name": "stderr",
          "text": [
            "/usr/local/lib/python3.7/dist-packages/ipykernel_launcher.py:2: FutureWarning: Value based partial slicing on non-monotonic DatetimeIndexes with non-existing keys is deprecated and will raise a KeyError in a future Version.\n",
            "  \n"
          ]
        },
        {
          "output_type": "display_data",
          "data": {
            "text/plain": [
              "<Figure size 864x576 with 2 Axes>"
            ],
            "image/png": "[encoded data removed]"
          },
          "metadata": {}
        }
      ],
      "source": [
        "# Prepare data\n",
        "runs_subset_2015_2018 = df_run['2015':'2018']\n",
        "runs_distance = runs_subset_2015_2018['Distance (km)']\n",
        "runs_hr = runs_subset_2015_2018['Average Heart Rate (bpm)']\n",
        "\n",
        "# Create plot\n",
        "fig, (ax1, ax2) = plt.subplots(2,1,sharex=True,figsize=(12,8))\n",
        "\n",
        "# Plot and customize first subplot\n",
        "runs_distance.plot(ax=ax1)\n",
        "ax1.set(ylabel='Distance (km)', title='Historical data with averages')\n",
        "ax1.axhline(runs_distance.mean(), color='blue', linewidth=1, linestyle='-.')\n",
        "\n",
        "# Plot and customize second subplot\n",
        "runs_hr.plot(ax=ax2, color='gray')\n",
        "ax2.set(xlabel='Date', ylabel='Average Heart Rate (bpm)')\n",
        "ax2.axhline(runs_hr.mean(),color='blue',linewidth=1,linestyle='-.')\n",
        "\n",
        "# Show plot\n",
        "plt.show()\n",
        "plt.show()"
      ]
    },
    {
      "cell_type": "markdown",
      "metadata": {
        "dc": {
          "key": "47"
        },
        "deletable": false,
        "editable": false,
        "run_control": {
          "frozen": true
        },
        "tags": [
          "context"
        ],
        "id": "1uq5UUc83Wpg"
      },
      "source": [
        "## 7. Did I reach my goals?\n",
        "<p>To motivate myself to run regularly, I set a target goal of running 1000 km per year. Let's visualize my annual running distance (km) from 2013 through 2018 to see if I reached my goal each year. Only stars in the green region indicate success.</p>"
      ]
    },
    {
      "cell_type": "code",
      "execution_count": null,
      "metadata": {
        "dc": {
          "key": "47"
        },
        "tags": [
          "sample_code"
        ],
        "colab": {
          "base_uri": "https://localhost:8080/",
          "height": 354
        },
        "id": "A8qYMVNz3Wph",
        "outputId": "8cafc7b9-a316-44fc-dcd1-52229470a938"
      },
      "outputs": [
        {
          "output_type": "display_data",
          "data": {
            "text/plain": [
              "<Figure size 576x360 with 1 Axes>"
            ],
            "image/png": "[encoded data removed]"
          },
          "metadata": {}
        }
      ],
      "source": [
        "# Prepare data\n",
        "df_run_dist_annual = df_run.sort_index()['20130101':'20181231']['Distance (km)'] \\\n",
        "                    .resample('A').sum()\n",
        "\n",
        "# Create plot\n",
        "fig = plt.figure(figsize=(8, 5))\n",
        "\n",
        "# Plot and customize\n",
        "ax = df_run_dist_annual.plot(marker='*', markersize=14, linewidth=0, color='blue')\n",
        "ax.set(ylim=[0, 1210],\n",
        "       xlim=['2012','2019'],\n",
        "       ylabel='Distance (km)',\n",
        "       xlabel='Years',\n",
        "       title='Annual totals for distance')\n",
        "\n",
        "ax.axhspan(1000, 1210, color='green', alpha=0.4)\n",
        "ax.axhspan(800, 1000, color='yellow', alpha=0.3)\n",
        "ax.axhspan(0, 800, color='red', alpha=0.2)\n",
        "\n",
        "# Show plot\n",
        "plt.show()"
      ]
    },
    {
      "cell_type": "markdown",
      "metadata": {
        "dc": {
          "key": "54"
        },
        "deletable": false,
        "editable": false,
        "run_control": {
          "frozen": true
        },
        "tags": [
          "context"
        ],
        "id": "MqJTbrAt3Wph"
      },
      "source": [
        "## 8. Am I progressing?\n",
        "<p>Let's dive a little deeper into the data to answer a tricky question: am I progressing in terms of my running skills? </p>\n",
        "<p>To answer this question, we'll decompose my weekly distance run and visually compare it to the raw data. A red trend line will represent the weekly distance run.</p>\n",
        "<p>We are going to use <code>statsmodels</code> library to decompose the weekly trend.</p>"
      ]
    },
    {
      "cell_type": "code",
      "execution_count": null,
      "metadata": {
        "dc": {
          "key": "54"
        },
        "tags": [
          "sample_code"
        ],
        "colab": {
          "base_uri": "https://localhost:8080/",
          "height": 469
        },
        "id": "Sitm0lQK3Wph",
        "outputId": "f9b01e48-0d5a-47cf-f617-50448f1ba466"
      },
      "outputs": [
        {
          "output_type": "stream",
          "name": "stderr",
          "text": [
            "/usr/local/lib/python3.7/dist-packages/ipykernel_launcher.py:5: FutureWarning: Value based partial slicing on non-monotonic DatetimeIndexes with non-existing keys is deprecated and will raise a KeyError in a future Version.\n",
            "  \"\"\"\n",
            "/usr/local/lib/python3.7/dist-packages/ipykernel_launcher.py:7: FutureWarning: the 'freq'' keyword is deprecated, use 'period' instead\n",
            "  import sys\n"
          ]
        },
        {
          "output_type": "error",
          "ename": "ValueError",
          "evalue": "ignored",
          "traceback": [
            "\u001b[0;31m---------------------------------------------------------------------------\u001b[0m",
            "\u001b[0;31mValueError\u001b[0m                                Traceback (most recent call last)",
            "\u001b[0;32m<ipython-input-26-4d9ba290854e>\u001b[0m in \u001b[0;36m<module>\u001b[0;34m\u001b[0m\n\u001b[1;32m      5\u001b[0m \u001b[0mdf_run_dist_wkly\u001b[0m \u001b[0;34m=\u001b[0m \u001b[0mdf_run\u001b[0m\u001b[0;34m.\u001b[0m\u001b[0mloc\u001b[0m\u001b[0;34m[\u001b[0m\u001b[0;34m'20190101'\u001b[0m\u001b[0;34m:\u001b[0m\u001b[0;34m'20130101'\u001b[0m\u001b[0;34m]\u001b[0m\u001b[0;34m[\u001b[0m\u001b[0;34m'Distance (km)'\u001b[0m\u001b[0;34m]\u001b[0m\u001b[0;31m \u001b[0m\u001b[0;31m\\\u001b[0m\u001b[0;34m\u001b[0m\u001b[0;34m\u001b[0m\u001b[0m\n\u001b[1;32m      6\u001b[0m                     \u001b[0;34m.\u001b[0m\u001b[0mresample\u001b[0m\u001b[0;34m(\u001b[0m\u001b[0;34m'W'\u001b[0m\u001b[0;34m)\u001b[0m\u001b[0;34m.\u001b[0m\u001b[0mbfill\u001b[0m\u001b[0;34m(\u001b[0m\u001b[0;34m)\u001b[0m\u001b[0;34m\u001b[0m\u001b[0;34m\u001b[0m\u001b[0m\n\u001b[0;32m----> 7\u001b[0;31m \u001b[0mdecomposed\u001b[0m \u001b[0;34m=\u001b[0m \u001b[0msm\u001b[0m\u001b[0;34m.\u001b[0m\u001b[0mtsa\u001b[0m\u001b[0;34m.\u001b[0m\u001b[0mseasonal_decompose\u001b[0m\u001b[0;34m(\u001b[0m\u001b[0mdf_run_dist_wkly\u001b[0m\u001b[0;34m,\u001b[0m \u001b[0mextrapolate_trend\u001b[0m\u001b[0;34m=\u001b[0m\u001b[0;36m1\u001b[0m\u001b[0;34m,\u001b[0m \u001b[0mfreq\u001b[0m\u001b[0;34m=\u001b[0m\u001b[0;36m52\u001b[0m\u001b[0;34m)\u001b[0m\u001b[0;34m\u001b[0m\u001b[0;34m\u001b[0m\u001b[0m\n\u001b[0m\u001b[1;32m      8\u001b[0m \u001b[0;34m\u001b[0m\u001b[0m\n\u001b[1;32m      9\u001b[0m \u001b[0;31m# Create plot\u001b[0m\u001b[0;34m\u001b[0m\u001b[0;34m\u001b[0m\u001b[0;34m\u001b[0m\u001b[0m\n",
            "\u001b[0;32m/usr/local/lib/python3.7/dist-packages/pandas/util/_decorators.py\u001b[0m in \u001b[0;36mwrapper\u001b[0;34m(*args, **kwargs)\u001b[0m\n\u001b[1;32m    205\u001b[0m                 \u001b[0;32melse\u001b[0m\u001b[0;34m:\u001b[0m\u001b[0;34m\u001b[0m\u001b[0;34m\u001b[0m\u001b[0m\n\u001b[1;32m    206\u001b[0m                     \u001b[0mkwargs\u001b[0m\u001b[0;34m[\u001b[0m\u001b[0mnew_arg_name\u001b[0m\u001b[0;34m]\u001b[0m \u001b[0;34m=\u001b[0m \u001b[0mnew_arg_value\u001b[0m\u001b[0;34m\u001b[0m\u001b[0;34m\u001b[0m\u001b[0m\n\u001b[0;32m--> 207\u001b[0;31m             \u001b[0;32mreturn\u001b[0m \u001b[0mfunc\u001b[0m\u001b[0;34m(\u001b[0m\u001b[0;34m*\u001b[0m\u001b[0margs\u001b[0m\u001b[0;34m,\u001b[0m \u001b[0;34m**\u001b[0m\u001b[0mkwargs\u001b[0m\u001b[0;34m)\u001b[0m\u001b[0;34m\u001b[0m\u001b[0;34m\u001b[0m\u001b[0m\n\u001b[0m\u001b[1;32m    208\u001b[0m \u001b[0;34m\u001b[0m\u001b[0m\n\u001b[1;32m    209\u001b[0m         \u001b[0;32mreturn\u001b[0m \u001b[0mcast\u001b[0m\u001b[0;34m(\u001b[0m\u001b[0mF\u001b[0m\u001b[0;34m,\u001b[0m \u001b[0mwrapper\u001b[0m\u001b[0;34m)\u001b[0m\u001b[0;34m\u001b[0m\u001b[0;34m\u001b[0m\u001b[0m\n",
            "\u001b[0;32m/usr/local/lib/python3.7/dist-packages/statsmodels/tsa/seasonal.py\u001b[0m in \u001b[0;36mseasonal_decompose\u001b[0;34m(x, model, filt, period, two_sided, extrapolate_trend)\u001b[0m\n\u001b[1;32m    147\u001b[0m         raise ValueError('x must have 2 complete cycles requires {0} '\n\u001b[1;32m    148\u001b[0m                          \u001b[0;34m'observations. x only has {1} '\u001b[0m\u001b[0;34m\u001b[0m\u001b[0;34m\u001b[0m\u001b[0m\n\u001b[0;32m--> 149\u001b[0;31m                          'observation(s)'.format(2 * pfreq, x.shape[0]))\n\u001b[0m\u001b[1;32m    150\u001b[0m \u001b[0;34m\u001b[0m\u001b[0m\n\u001b[1;32m    151\u001b[0m     \u001b[0;32mif\u001b[0m \u001b[0mfilt\u001b[0m \u001b[0;32mis\u001b[0m \u001b[0;32mNone\u001b[0m\u001b[0;34m:\u001b[0m\u001b[0;34m\u001b[0m\u001b[0;34m\u001b[0m\u001b[0m\n",
            "\u001b[0;31mValueError\u001b[0m: x must have 2 complete cycles requires 104 observations. x only has 0 observation(s)"
          ]
        }
      ],
      "source": [
        "# Import required library\n",
        "import statsmodels.api as sm\n",
        "\n",
        "# Prepare data\n",
        "df_run_dist_wkly = df_run.loc['20190101':'20130101']['Distance (km)'] \\\n",
        "                    .resample('W').bfill()\n",
        "decomposed = sm.tsa.seasonal_decompose(df_run_dist_wkly, extrapolate_trend=1, freq=52)\n",
        "\n",
        "# Create plot\n",
        "fig = plt.figure(figsize=(12, 5))\n",
        "\n",
        "# Plot and customize\n",
        "ax = decomposed.trend.plot(label='Trend', linewidth=2)\n",
        "ax = decomposed.observed.plot(label='Observed', linewidth=0.5)\n",
        "\n",
        "ax.legend()\n",
        "ax.set_title('Running distance trend')\n",
        "\n",
        "# Show plot\n",
        "plt.show()"
      ]
    },
    {
      "cell_type": "markdown",
      "metadata": {
        "dc": {
          "key": "61"
        },
        "deletable": false,
        "editable": false,
        "run_control": {
          "frozen": true
        },
        "tags": [
          "context"
        ],
        "id": "LTqg4MG53Wpi"
      },
      "source": [
        "## 9. Training intensity\n",
        "<p>Heart rate is a popular metric used to measure training intensity. Depending on age and fitness level, heart rates are grouped into different zones that people can target depending on training goals. A target heart rate during moderate-intensity activities is about 50-70% of maximum heart rate, while during vigorous physical activity it’s about 70-85% of maximum.</p>\n",
        "<p>We'll create a distribution plot of my heart rate data by training intensity. It will be a visual presentation for the number of activities from predefined training zones. </p>"
      ]
    },
    {
      "cell_type": "code",
      "execution_count": null,
      "metadata": {
        "dc": {
          "key": "61"
        },
        "tags": [
          "sample_code"
        ],
        "colab": {
          "base_uri": "https://localhost:8080/",
          "height": 414
        },
        "id": "oT2vO7FG3Wpr",
        "outputId": "2b39ac0c-d562-403a-e2f6-e86a2ff56026"
      },
      "outputs": [
        {
          "output_type": "stream",
          "name": "stderr",
          "text": [
            "/usr/local/lib/python3.7/dist-packages/ipykernel_launcher.py:5: FutureWarning: Value based partial slicing on non-monotonic DatetimeIndexes with non-existing keys is deprecated and will raise a KeyError in a future Version.\n",
            "  \"\"\"\n"
          ]
        },
        {
          "output_type": "display_data",
          "data": {
            "text/plain": [
              "<Figure size 576x360 with 1 Axes>"
            ],
            "image/png": "[encoded data removed]"
          },
          "metadata": {}
        }
      ],
      "source": [
        "# Prepare data\n",
        "hr_zones = [100, 125, 133, 142, 151, 173]\n",
        "zone_names = ['Easy', 'Moderate', 'Hard', 'Very hard', 'Maximal']\n",
        "zone_colors = ['green', 'yellow', 'orange', 'tomato', 'red']\n",
        "df_run_hr_all = df_run['2015-03':'2018']['Average Heart Rate (bpm)']\n",
        "\n",
        "# Create plot\n",
        "fig, ax = plt.subplots(figsize=(8,5))\n",
        "\n",
        "# Plot and customize\n",
        "n, bins, patches = ax.hist(df_run_hr_all, bins=hr_zones, alpha=0.5)\n",
        "for i in range(0, len(patches)):\n",
        "    patches[i].set_facecolor(zone_colors[i])\n",
        "\n",
        "ax.set(title='Distribution of HR', ylabel='Number of runs')\n",
        "ax.xaxis.set(ticks=hr_zones)\n",
        "ax.set_xticklabels(labels=zone_names, rotation=-30, ha='left')\n",
        "\n",
        "# Show plot\n",
        "plt.show()"
      ]
    },
    {
      "cell_type": "markdown",
      "metadata": {
        "dc": {
          "key": "68"
        },
        "deletable": false,
        "editable": false,
        "run_control": {
          "frozen": true
        },
        "tags": [
          "context"
        ],
        "id": "r9MgVwc53Wps"
      },
      "source": [
        "## 10. Detailed summary report\n",
        "<p>With all this data cleaning, analysis, and visualization, let's create detailed summary tables of my training. </p>\n",
        "<p>To do this, we'll create two tables. The first table will be a summary of the distance (km) and climb (m) variables for each training activity. The second table will list the summary statistics for the average speed (km/hr), climb (m), and distance (km) variables for each training activity.</p>"
      ]
    },
    {
      "cell_type": "code",
      "execution_count": null,
      "metadata": {
        "dc": {
          "key": "68"
        },
        "tags": [
          "sample_code"
        ],
        "colab": {
          "base_uri": "https://localhost:8080/",
          "height": 1000
        },
        "id": "eDgyj0Nx3Wpt",
        "outputId": "52099fff-275a-4f9d-ae3d-84cf459241bb"
      },
      "outputs": [
        {
          "output_type": "stream",
          "name": "stdout",
          "text": [
            "Totals for different training types:\n"
          ]
        },
        {
          "output_type": "display_data",
          "data": {
            "text/plain": [
              "         Distance (km)  Climb (m)\n",
              "Type                             \n",
              "Cycling         680.58       6976\n",
              "Running        5224.50      57278\n",
              "Walking          33.45        349"
            ],
            "text/html": [
              "\n",
              "  <div id=\"df-fbaaf459-dfd8-4472-aed3-1f64ffe025ae\">\n",
              "    <div class=\"colab-df-container\">\n",
              "      <div>\n",
              "<style scoped>\n",
              "    .dataframe tbody tr th:only-of-type {\n",
              "        vertical-align: middle;\n",
              "    }\n",
              "\n",
              "    .dataframe tbody tr th {\n",
              "        vertical-align: top;\n",
              "    }\n",
              "\n",
              "    .dataframe thead th {\n",
              "        text-align: right;\n",
              "    }\n",
              "</style>\n",
              "<table border=\"1\" class=\"dataframe\">\n",
              "  <thead>\n",
              "    <tr style=\"text-align: right;\">\n",
              "      <th></th>\n",
              "      <th>Distance (km)</th>\n",
              "      <th>Climb (m)</th>\n",
              "    </tr>\n",
              "    <tr>\n",
              "      <th>Type</th>\n",
              "      <th></th>\n",
              "      <th></th>\n",
              "    </tr>\n",
              "  </thead>\n",
              "  <tbody>\n",
              "    <tr>\n",
              "      <th>Cycling</th>\n",
              "      <td>680.58</td>\n",
              "      <td>6976</td>\n",
              "    </tr>\n",
              "    <tr>\n",
              "      <th>Running</th>\n",
              "      <td>5224.50</td>\n",
              "      <td>57278</td>\n",
              "    </tr>\n",
              "    <tr>\n",
              "      <th>Walking</th>\n",
              "      <td>33.45</td>\n",
              "      <td>349</td>\n",
              "    </tr>\n",
              "  </tbody>\n",
              "</table>\n",
              "</div>\n",
              "      <button class=\"colab-df-convert\" onclick=\"convertToInteractive('df-fbaaf459-dfd8-4472-aed3-1f64ffe025ae')\"\n",
              "              title=\"Convert this dataframe to an interactive table.\"\n",
              "              style=\"display:none;\">\n",
              "        \n",
              "  <svg xmlns=\"http://www.w3.org/2000/svg\" height=\"24px\"viewBox=\"0 0 24 24\"\n",
              "       width=\"24px\">\n",
              "    <path d=\"M0 0h24v24H0V0z\" fill=\"none\"/>\n",
              "    <path d=\"M18.56 5.44l.94 2.06.94-2.06 2.06-.94-2.06-.94-.94-2.06-.94 2.06-2.06.94zm-11 1L8.5 8.5l.94-2.06 2.06-.94-2.06-.94L8.5 2.5l-.94 2.06-2.06.94zm10 10l.94 2.06.94-2.06 2.06-.94-2.06-.94-.94-2.06-.94 2.06-2.06.94z\"/><path d=\"M17.41 7.96l-1.37-1.37c-.4-.4-.92-.59-1.43-.59-.52 0-1.04.2-1.43.59L10.3 9.45l-7.72 7.72c-.78.78-.78 2.05 0 2.83L4 21.41c.39.39.9.59 1.41.59.51 0 1.02-.2 1.41-.59l7.78-7.78 2.81-2.81c.8-.78.8-2.07 0-2.86zM5.41 20L4 18.59l7.72-7.72 1.47 1.35L5.41 20z\"/>\n",
              "  </svg>\n",
              "      </button>\n",
              "      \n",
              "  <style>\n",
              "    .colab-df-container {\n",
              "      display:flex;\n",
              "      flex-wrap:wrap;\n",
              "      gap: 12px;\n",
              "    }\n",
              "\n",
              "    .colab-df-convert {\n",
              "      background-color: #E8F0FE;\n",
              "      border: none;\n",
              "      border-radius: 50%;\n",
              "      cursor: pointer;\n",
              "      display: none;\n",
              "      fill: #1967D2;\n",
              "      height: 32px;\n",
              "      padding: 0 0 0 0;\n",
              "      width: 32px;\n",
              "    }\n",
              "\n",
              "    .colab-df-convert:hover {\n",
              "      background-color: #E2EBFA;\n",
              "      box-shadow: 0px 1px 2px rgba(60, 64, 67, 0.3), 0px 1px 3px 1px rgba(60, 64, 67, 0.15);\n",
              "      fill: #174EA6;\n",
              "    }\n",
              "\n",
              "    [theme=dark] .colab-df-convert {\n",
              "      background-color: #3B4455;\n",
              "      fill: #D2E3FC;\n",
              "    }\n",
              "\n",
              "    [theme=dark] .colab-df-convert:hover {\n",
              "      background-color: #434B5C;\n",
              "      box-shadow: 0px 1px 3px 1px rgba(0, 0, 0, 0.15);\n",
              "      filter: drop-shadow(0px 1px 2px rgba(0, 0, 0, 0.3));\n",
              "      fill: #FFFFFF;\n",
              "    }\n",
              "  </style>\n",
              "\n",
              "      <script>\n",
              "        const buttonEl =\n",
              "          document.querySelector('#df-fbaaf459-dfd8-4472-aed3-1f64ffe025ae button.colab-df-convert');\n",
              "        buttonEl.style.display =\n",
              "          google.colab.kernel.accessAllowed ? 'block' : 'none';\n",
              "\n",
              "        async function convertToInteractive(key) {\n",
              "          const element = document.querySelector('#df-fbaaf459-dfd8-4472-aed3-1f64ffe025ae');\n",
              "          const dataTable =\n",
              "            await google.colab.kernel.invokeFunction('convertToInteractive',\n",
              "                                                     [key], {});\n",
              "          if (!dataTable) return;\n",
              "\n",
              "          const docLinkHtml = 'Like what you see? Visit the ' +\n",
              "            '<a target=\"_blank\" href=https://colab.research.google.com/notebooks/data_table.ipynb>data table notebook</a>'\n",
              "            + ' to learn more about interactive tables.';\n",
              "          element.innerHTML = '';\n",
              "          dataTable['output_type'] = 'display_data';\n",
              "          await google.colab.output.renderOutput(dataTable, element);\n",
              "          const docLink = document.createElement('div');\n",
              "          docLink.innerHTML = docLinkHtml;\n",
              "          element.appendChild(docLink);\n",
              "        }\n",
              "      </script>\n",
              "    </div>\n",
              "  </div>\n",
              "  "
            ]
          },
          "metadata": {}
        },
        {
          "output_type": "stream",
          "name": "stdout",
          "text": [
            "Summary statistics for different training types:\n"
          ]
        },
        {
          "output_type": "execute_result",
          "data": {
            "text/plain": [
              "               Average Speed (km/h)     Climb (m)  Distance (km)\n",
              "Type                                                            \n",
              "Cycling 25%               16.980000    139.000000      15.530000\n",
              "        50%               19.500000    199.000000      20.300000\n",
              "        75%               21.490000    318.000000      29.400000\n",
              "        count             29.000000     29.000000      29.000000\n",
              "        max               24.330000    553.000000      49.180000\n",
              "        mean              19.125172    240.551724      23.468276\n",
              "        min               11.380000     58.000000      11.410000\n",
              "        std                3.257100    128.960289       9.451040\n",
              "        total                   NaN   6976.000000     680.580000\n",
              "Running 25%               10.495000     54.000000       7.415000\n",
              "        50%               10.980000     91.000000      10.810000\n",
              "        75%               11.520000    171.000000      13.190000\n",
              "        count            459.000000    459.000000     459.000000\n",
              "        max               20.720000    982.000000      38.320000\n",
              "        mean              11.056296    124.788671      11.382353\n",
              "        min                5.770000      0.000000       0.760000\n",
              "        std                0.953273    103.382177       4.937853\n",
              "        total                   NaN  57278.000000    5224.500000\n",
              "Walking 25%                5.555000      7.000000       1.385000\n",
              "        50%                5.970000     10.000000       1.485000\n",
              "        75%                6.512500     15.500000       1.787500\n",
              "        count             18.000000     18.000000      18.000000\n",
              "        max                6.910000    112.000000       4.290000\n",
              "        mean               5.549444     19.388889       1.858333\n",
              "        min                1.040000      5.000000       1.220000\n",
              "        std                1.459309     27.110100       0.880055\n",
              "        total                   NaN    349.000000      33.450000"
            ],
            "text/html": [
              "\n",
              "  <div id=\"df-7f796798-8a69-4e38-b07d-61a94cda076c\">\n",
              "    <div class=\"colab-df-container\">\n",
              "      <div>\n",
              "<style scoped>\n",
              "    .dataframe tbody tr th:only-of-type {\n",
              "        vertical-align: middle;\n",
              "    }\n",
              "\n",
              "    .dataframe tbody tr th {\n",
              "        vertical-align: top;\n",
              "    }\n",
              "\n",
              "    .dataframe thead th {\n",
              "        text-align: right;\n",
              "    }\n",
              "</style>\n",
              "<table border=\"1\" class=\"dataframe\">\n",
              "  <thead>\n",
              "    <tr style=\"text-align: right;\">\n",
              "      <th></th>\n",
              "      <th></th>\n",
              "      <th>Average Speed (km/h)</th>\n",
              "      <th>Climb (m)</th>\n",
              "      <th>Distance (km)</th>\n",
              "    </tr>\n",
              "    <tr>\n",
              "      <th>Type</th>\n",
              "      <th></th>\n",
              "      <th></th>\n",
              "      <th></th>\n",
              "      <th></th>\n",
              "    </tr>\n",
              "  </thead>\n",
              "  <tbody>\n",
              "    <tr>\n",
              "      <th rowspan=\"9\" valign=\"top\">Cycling</th>\n",
              "      <th>25%</th>\n",
              "      <td>16.980000</td>\n",
              "      <td>139.000000</td>\n",
              "      <td>15.530000</td>\n",
              "    </tr>\n",
              "    <tr>\n",
              "      <th>50%</th>\n",
              "      <td>19.500000</td>\n",
              "      <td>199.000000</td>\n",
              "      <td>20.300000</td>\n",
              "    </tr>\n",
              "    <tr>\n",
              "      <th>75%</th>\n",
              "      <td>21.490000</td>\n",
              "      <td>318.000000</td>\n",
              "      <td>29.400000</td>\n",
              "    </tr>\n",
              "    <tr>\n",
              "      <th>count</th>\n",
              "      <td>29.000000</td>\n",
              "      <td>29.000000</td>\n",
              "      <td>29.000000</td>\n",
              "    </tr>\n",
              "    <tr>\n",
              "      <th>max</th>\n",
              "      <td>24.330000</td>\n",
              "      <td>553.000000</td>\n",
              "      <td>49.180000</td>\n",
              "    </tr>\n",
              "    <tr>\n",
              "      <th>mean</th>\n",
              "      <td>19.125172</td>\n",
              "      <td>240.551724</td>\n",
              "      <td>23.468276</td>\n",
              "    </tr>\n",
              "    <tr>\n",
              "      <th>min</th>\n",
              "      <td>11.380000</td>\n",
              "      <td>58.000000</td>\n",
              "      <td>11.410000</td>\n",
              "    </tr>\n",
              "    <tr>\n",
              "      <th>std</th>\n",
              "      <td>3.257100</td>\n",
              "      <td>128.960289</td>\n",
              "      <td>9.451040</td>\n",
              "    </tr>\n",
              "    <tr>\n",
              "      <th>total</th>\n",
              "      <td>NaN</td>\n",
              "      <td>6976.000000</td>\n",
              "      <td>680.580000</td>\n",
              "    </tr>\n",
              "    <tr>\n",
              "      <th rowspan=\"9\" valign=\"top\">Running</th>\n",
              "      <th>25%</th>\n",
              "      <td>10.495000</td>\n",
              "      <td>54.000000</td>\n",
              "      <td>7.415000</td>\n",
              "    </tr>\n",
              "    <tr>\n",
              "      <th>50%</th>\n",
              "      <td>10.980000</td>\n",
              "      <td>91.000000</td>\n",
              "      <td>10.810000</td>\n",
              "    </tr>\n",
              "    <tr>\n",
              "      <th>75%</th>\n",
              "      <td>11.520000</td>\n",
              "      <td>171.000000</td>\n",
              "      <td>13.190000</td>\n",
              "    </tr>\n",
              "    <tr>\n",
              "      <th>count</th>\n",
              "      <td>459.000000</td>\n",
              "      <td>459.000000</td>\n",
              "      <td>459.000000</td>\n",
              "    </tr>\n",
              "    <tr>\n",
              "      <th>max</th>\n",
              "      <td>20.720000</td>\n",
              "      <td>982.000000</td>\n",
              "      <td>38.320000</td>\n",
              "    </tr>\n",
              "    <tr>\n",
              "      <th>mean</th>\n",
              "      <td>11.056296</td>\n",
              "      <td>124.788671</td>\n",
              "      <td>11.382353</td>\n",
              "    </tr>\n",
              "    <tr>\n",
              "      <th>min</th>\n",
              "      <td>5.770000</td>\n",
              "      <td>0.000000</td>\n",
              "      <td>0.760000</td>\n",
              "    </tr>\n",
              "    <tr>\n",
              "      <th>std</th>\n",
              "      <td>0.953273</td>\n",
              "      <td>103.382177</td>\n",
              "      <td>4.937853</td>\n",
              "    </tr>\n",
              "    <tr>\n",
              "      <th>total</th>\n",
              "      <td>NaN</td>\n",
              "      <td>57278.000000</td>\n",
              "      <td>5224.500000</td>\n",
              "    </tr>\n",
              "    <tr>\n",
              "      <th rowspan=\"9\" valign=\"top\">Walking</th>\n",
              "      <th>25%</th>\n",
              "      <td>5.555000</td>\n",
              "      <td>7.000000</td>\n",
              "      <td>1.385000</td>\n",
              "    </tr>\n",
              "    <tr>\n",
              "      <th>50%</th>\n",
              "      <td>5.970000</td>\n",
              "      <td>10.000000</td>\n",
              "      <td>1.485000</td>\n",
              "    </tr>\n",
              "    <tr>\n",
              "      <th>75%</th>\n",
              "      <td>6.512500</td>\n",
              "      <td>15.500000</td>\n",
              "      <td>1.787500</td>\n",
              "    </tr>\n",
              "    <tr>\n",
              "      <th>count</th>\n",
              "      <td>18.000000</td>\n",
              "      <td>18.000000</td>\n",
              "      <td>18.000000</td>\n",
              "    </tr>\n",
              "    <tr>\n",
              "      <th>max</th>\n",
              "      <td>6.910000</td>\n",
              "      <td>112.000000</td>\n",
              "      <td>4.290000</td>\n",
              "    </tr>\n",
              "    <tr>\n",
              "      <th>mean</th>\n",
              "      <td>5.549444</td>\n",
              "      <td>19.388889</td>\n",
              "      <td>1.858333</td>\n",
              "    </tr>\n",
              "    <tr>\n",
              "      <th>min</th>\n",
              "      <td>1.040000</td>\n",
              "      <td>5.000000</td>\n",
              "      <td>1.220000</td>\n",
              "    </tr>\n",
              "    <tr>\n",
              "      <th>std</th>\n",
              "      <td>1.459309</td>\n",
              "      <td>27.110100</td>\n",
              "      <td>0.880055</td>\n",
              "    </tr>\n",
              "    <tr>\n",
              "      <th>total</th>\n",
              "      <td>NaN</td>\n",
              "      <td>349.000000</td>\n",
              "      <td>33.450000</td>\n",
              "    </tr>\n",
              "  </tbody>\n",
              "</table>\n",
              "</div>\n",
              "      <button class=\"colab-df-convert\" onclick=\"convertToInteractive('df-7f796798-8a69-4e38-b07d-61a94cda076c')\"\n",
              "              title=\"Convert this dataframe to an interactive table.\"\n",
              "              style=\"display:none;\">\n",
              "        \n",
              "  <svg xmlns=\"http://www.w3.org/2000/svg\" height=\"24px\"viewBox=\"0 0 24 24\"\n",
              "       width=\"24px\">\n",
              "    <path d=\"M0 0h24v24H0V0z\" fill=\"none\"/>\n",
              "    <path d=\"M18.56 5.44l.94 2.06.94-2.06 2.06-.94-2.06-.94-.94-2.06-.94 2.06-2.06.94zm-11 1L8.5 8.5l.94-2.06 2.06-.94-2.06-.94L8.5 2.5l-.94 2.06-2.06.94zm10 10l.94 2.06.94-2.06 2.06-.94-2.06-.94-.94-2.06-.94 2.06-2.06.94z\"/><path d=\"M17.41 7.96l-1.37-1.37c-.4-.4-.92-.59-1.43-.59-.52 0-1.04.2-1.43.59L10.3 9.45l-7.72 7.72c-.78.78-.78 2.05 0 2.83L4 21.41c.39.39.9.59 1.41.59.51 0 1.02-.2 1.41-.59l7.78-7.78 2.81-2.81c.8-.78.8-2.07 0-2.86zM5.41 20L4 18.59l7.72-7.72 1.47 1.35L5.41 20z\"/>\n",
              "  </svg>\n",
              "      </button>\n",
              "      \n",
              "  <style>\n",
              "    .colab-df-container {\n",
              "      display:flex;\n",
              "      flex-wrap:wrap;\n",
              "      gap: 12px;\n",
              "    }\n",
              "\n",
              "    .colab-df-convert {\n",
              "      background-color: #E8F0FE;\n",
              "      border: none;\n",
              "      border-radius: 50%;\n",
              "      cursor: pointer;\n",
              "      display: none;\n",
              "      fill: #1967D2;\n",
              "      height: 32px;\n",
              "      padding: 0 0 0 0;\n",
              "      width: 32px;\n",
              "    }\n",
              "\n",
              "    .colab-df-convert:hover {\n",
              "      background-color: #E2EBFA;\n",
              "      box-shadow: 0px 1px 2px rgba(60, 64, 67, 0.3), 0px 1px 3px 1px rgba(60, 64, 67, 0.15);\n",
              "      fill: #174EA6;\n",
              "    }\n",
              "\n",
              "    [theme=dark] .colab-df-convert {\n",
              "      background-color: #3B4455;\n",
              "      fill: #D2E3FC;\n",
              "    }\n",
              "\n",
              "    [theme=dark] .colab-df-convert:hover {\n",
              "      background-color: #434B5C;\n",
              "      box-shadow: 0px 1px 3px 1px rgba(0, 0, 0, 0.15);\n",
              "      filter: drop-shadow(0px 1px 2px rgba(0, 0, 0, 0.3));\n",
              "      fill: #FFFFFF;\n",
              "    }\n",
              "  </style>\n",
              "\n",
              "      <script>\n",
              "        const buttonEl =\n",
              "          document.querySelector('#df-7f796798-8a69-4e38-b07d-61a94cda076c button.colab-df-convert');\n",
              "        buttonEl.style.display =\n",
              "          google.colab.kernel.accessAllowed ? 'block' : 'none';\n",
              "\n",
              "        async function convertToInteractive(key) {\n",
              "          const element = document.querySelector('#df-7f796798-8a69-4e38-b07d-61a94cda076c');\n",
              "          const dataTable =\n",
              "            await google.colab.kernel.invokeFunction('convertToInteractive',\n",
              "                                                     [key], {});\n",
              "          if (!dataTable) return;\n",
              "\n",
              "          const docLinkHtml = 'Like what you see? Visit the ' +\n",
              "            '<a target=\"_blank\" href=https://colab.research.google.com/notebooks/data_table.ipynb>data table notebook</a>'\n",
              "            + ' to learn more about interactive tables.';\n",
              "          element.innerHTML = '';\n",
              "          dataTable['output_type'] = 'display_data';\n",
              "          await google.colab.output.renderOutput(dataTable, element);\n",
              "          const docLink = document.createElement('div');\n",
              "          docLink.innerHTML = docLinkHtml;\n",
              "          element.appendChild(docLink);\n",
              "        }\n",
              "      </script>\n",
              "    </div>\n",
              "  </div>\n",
              "  "
            ]
          },
          "metadata": {},
          "execution_count": 17
        }
      ],
      "source": [
        "# Concatenating three DataFrames\n",
        "df_run_walk_cycle = df_run.append([df_walk, df_cycle]).sort_index(ascending=False)\n",
        "\n",
        "dist_climb_cols, speed_col = ['Distance (km)', 'Climb (m)'], ['Average Speed (km/h)']\n",
        "\n",
        "# Calculating total distance and climb in each type of activities\n",
        "df_totals = df_run_walk_cycle.groupby('Type')[dist_climb_cols].sum()\n",
        "\n",
        "print('Totals for different training types:')\n",
        "display(df_totals)\n",
        "\n",
        "# Calculating summary statistics for each type of activities \n",
        "df_summary = df_run_walk_cycle.groupby('Type')[dist_climb_cols + speed_col].describe()\n",
        "\n",
        "# Combine totals with summary\n",
        "for i in dist_climb_cols:\n",
        "    df_summary[i, 'total'] = df_totals[i]\n",
        "\n",
        "print('Summary statistics for different training types:')\n",
        "df_summary.stack()"
      ]
    },
    {
      "cell_type": "markdown",
      "metadata": {
        "dc": {
          "key": "75"
        },
        "deletable": false,
        "editable": false,
        "run_control": {
          "frozen": true
        },
        "tags": [
          "context"
        ],
        "id": "XYFXXezc3Wpt"
      },
      "source": [
        "## 11. Fun facts\n",
        "<p>To wrap up, let’s pick some fun facts out of the summary tables and solve the last exercise.</p>\n",
        "<p>These data (my running history) represent 6 years, 2 months and 21 days. And I remember how many running shoes I went through–7.</p>\n",
        "<pre><code>FUN FACTS\n",
        "- Average distance: 11.38 km\n",
        "- Longest distance: 38.32 km\n",
        "- Highest climb: 982 m\n",
        "- Total climb: 57,278 m\n",
        "- Total number of km run: 5,224 km\n",
        "- Total runs: 459\n",
        "- Number of running shoes gone through: 7 pairs\n",
        "</code></pre>\n",
        "<p>The story of Forrest Gump is well known–the man, who for no particular reason decided to go for a \"little run.\" His epic run duration was 3 years, 2 months and 14 days (1169 days). In the picture you can see Forrest’s route of 24,700 km.  </p>\n",
        "<pre><code>FORREST RUN FACTS\n",
        "- Average distance: 21.13 km\n",
        "- Total number of km run: 24,700 km\n",
        "- Total runs: 1169\n",
        "- Number of running shoes gone through: ...\n",
        "</code></pre>\n",
        "<p>Assuming Forest and I go through running shoes at the same rate, figure out how many pairs of shoes Forrest needed for his run.</p>\n",
        "<p><img src=\"https://assets.datacamp.com/production/project_727/img/Forrest_Gump_running_route.png\" alt=\"Forrest's route\" title=\"Little run of Forrest Gump\"></p>"
      ]
    },
    {
      "cell_type": "code",
      "execution_count": null,
      "metadata": {
        "dc": {
          "key": "75"
        },
        "tags": [
          "sample_code"
        ],
        "colab": {
          "base_uri": "https://localhost:8080/"
        },
        "id": "jRifUmT33Wpu",
        "outputId": "bbbe7a25-2adf-4894-bb7a-3cb46b7113f2"
      },
      "outputs": [
        {
          "output_type": "stream",
          "name": "stdout",
          "text": [
            "Forrest Gump would need 33 pairs of shoes!\n"
          ]
        }
      ],
      "source": [
        "# Count average shoes per lifetime (as km per pair) using our fun facts\n",
        "average_shoes_lifetime = 5224 / 7\n",
        "\n",
        "# Count number of shoes for Forrest's run distance\n",
        "shoes_for_forrest_run =  int(24700 / average_shoes_lifetime)\n",
        "print('Forrest Gump would need {} pairs of shoes!'.format(shoes_for_forrest_run))"
      ]
    }
  ],
  "metadata": {
    "kernelspec": {
      "display_name": "Python 3",
      "language": "python",
      "name": "python3"
    },
    "language_info": {
      "codemirror_mode": {
        "name": "ipython",
        "version": 3
      },
      "file_extension": ".py",
      "mimetype": "text/x-python",
      "name": "python",
      "nbconvert_exporter": "python",
      "pygments_lexer": "ipython3",
      "version": "3.5.2"
    },
    "colab": {
      "provenance": []
    }
  },
  "nbformat": 4,
  "nbformat_minor": 0
}